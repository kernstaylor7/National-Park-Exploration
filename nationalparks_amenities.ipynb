{
 "cells": [
  {
   "cell_type": "code",
   "execution_count": 21,
   "metadata": {},
   "outputs": [],
   "source": [
    "import json\n",
    "import requests\n",
    "from pprint import pprint\n",
    "import pandas as pd\n",
    "import os \n",
    "\n"
   ]
  },
  {
   "cell_type": "code",
   "execution_count": 22,
   "metadata": {},
   "outputs": [],
   "source": [
    "# Configure API request\n",
    "api_keys= '7b3ckIbue9dRLLchEjkXcDw5avq9dXfp67gjNidl'\n"
   ]
  },
  {
   "cell_type": "code",
   "execution_count": 23,
   "metadata": {},
   "outputs": [],
   "source": [
    "output_data_file = 'Project_2/amenities.csv'"
   ]
  },
  {
   "cell_type": "code",
   "execution_count": 24,
   "metadata": {},
   "outputs": [],
   "source": [
    "parameters={'parkInformation': 'id, parkCode, stateCode'}"
   ]
  },
  {
   "cell_type": "code",
   "execution_count": 25,
   "metadata": {},
   "outputs": [],
   "source": [
    "headers= {'Content-Type': 'application/json'}"
   ]
  },
  {
   "cell_type": "code",
   "execution_count": 26,
   "metadata": {},
   "outputs": [],
   "source": [
    "\n",
    "\n",
    "url= 'https://developer.nps.gov/api/v1/amenities?id=&api_key=7b3ckIbue9dRLLchEjkXcDw5avq9dXfp67gjNidl'\n",
    "\n"
   ]
  },
  {
   "cell_type": "code",
   "execution_count": 27,
   "metadata": {},
   "outputs": [],
   "source": [
    "response=requests.post(url, headers=headers, params=parameters)"
   ]
  },
  {
   "cell_type": "code",
   "execution_count": 28,
   "metadata": {},
   "outputs": [
    {
     "data": {
      "text/html": [
       "<div>\n",
       "<style scoped>\n",
       "    .dataframe tbody tr th:only-of-type {\n",
       "        vertical-align: middle;\n",
       "    }\n",
       "\n",
       "    .dataframe tbody tr th {\n",
       "        vertical-align: top;\n",
       "    }\n",
       "\n",
       "    .dataframe thead th {\n",
       "        text-align: right;\n",
       "    }\n",
       "</style>\n",
       "<table border=\"1\" class=\"dataframe\">\n",
       "  <thead>\n",
       "    <tr style=\"text-align: right;\">\n",
       "      <th></th>\n",
       "      <th>ID</th>\n",
       "      <th>Name</th>\n",
       "      <th>Categories</th>\n",
       "    </tr>\n",
       "  </thead>\n",
       "  <tbody>\n",
       "  </tbody>\n",
       "</table>\n",
       "</div>"
      ],
      "text/plain": [
       "Empty DataFrame\n",
       "Columns: [ID, Name, Categories]\n",
       "Index: []"
      ]
     },
     "execution_count": 28,
     "metadata": {},
     "output_type": "execute_result"
    }
   ],
   "source": [
    "id = []\n",
    "name = []\n",
    "categories = []\n",
    "\n",
    "#Create a dataframe to store the data\n",
    "np_amenities = pd.DataFrame({'ID': id, 'Name': name,'Categories': \"categories\"})\n",
    "\n",
    "\n",
    "#Preview the dataframe\n",
    "np_amenities.head()"
   ]
  },
  {
   "cell_type": "code",
   "execution_count": null,
   "metadata": {},
   "outputs": [],
   "source": []
  },
  {
   "cell_type": "code",
   "execution_count": 29,
   "metadata": {},
   "outputs": [
    {
     "data": {
      "text/plain": [
       "{'total': '117',\n",
       " 'limit': '50',\n",
       " 'start': '0',\n",
       " 'data': [{'id': 'A1B0AD01-740C-41E7-8412-FBBEDD5F1443',\n",
       "   'name': 'ATM/Cash Machine',\n",
       "   'categories': ['Convenience', 'Souvenirs and Supplies']},\n",
       "  {'id': '4E4D076A-6866-46C8-A28B-A129E2B8F3DB',\n",
       "   'name': 'Accessible Rooms',\n",
       "   'categories': ['Accessibility']},\n",
       "  {'id': '04D29064-B9A1-4031-AD0E-98E31EF69604',\n",
       "   'name': 'Accessible Sites',\n",
       "   'categories': ['Accessibility']},\n",
       "  {'id': '0E2B9B01-9AC3-4AAF-A801-8027314BE863',\n",
       "   'name': 'Airboat Launch',\n",
       "   'categories': ['Boating']},\n",
       "  {'id': 'B509969B-F06A-4DCC-BBB3-134964D896E2',\n",
       "   'name': 'Amphitheater',\n",
       "   'categories': ['Interpretive', 'Recreation']},\n",
       "  {'id': '89397A1A-3517-4941-8D30-037856E9D063',\n",
       "   'name': 'Animal-Safe Food Storage',\n",
       "   'categories': ['Safety']},\n",
       "  {'id': '64D6A0A9-8219-4B57-97A9-9DFB527831F8',\n",
       "   'name': 'Aquatic Invasive Species Inspection',\n",
       "   'categories': ['Boating']},\n",
       "  {'id': 'CBD31D2A-DD1A-4C5D-88C1-67B6B7147CE9',\n",
       "   'name': 'Assistive Listening Systems',\n",
       "   'categories': ['Accessibility']},\n",
       "  {'id': 'BD2D6111-3E55-4838-A943-66203D9D95D6',\n",
       "   'name': 'Assistive Listening Systems - T-Coil Compatible',\n",
       "   'categories': ['Accessibility']},\n",
       "  {'id': '7DC6C690-2BC3-4344-9691-EF9FCFB6E506',\n",
       "   'name': 'Audio Description',\n",
       "   'categories': ['Accessibility']},\n",
       "  {'id': '8BFB0FF0-0B32-402B-8B73-C8028E56501E',\n",
       "   'name': 'Audio Description - Live',\n",
       "   'categories': ['Accessibility']},\n",
       "  {'id': 'F4A842CB-C966-402E-BBD3-AB86EDCF8403',\n",
       "   'name': 'Automated Entrance',\n",
       "   'categories': ['Accessibility']},\n",
       "  {'id': '03A732CF-E5FD-473D-A78B-BDC4D20721BF',\n",
       "   'name': 'Automated External Defibrillator (AED)',\n",
       "   'categories': ['Emergency', 'Safety']},\n",
       "  {'id': 'B166EAD1-0D3E-4111-AE04-D5AB15DFDEDC',\n",
       "   'name': 'Baby Changing Station',\n",
       "   'categories': ['Convenience']},\n",
       "  {'id': '63734D6E-3330-4EED-B916-52B3F625A091',\n",
       "   'name': 'Beach/Water Access',\n",
       "   'categories': ['Recreation']},\n",
       "  {'id': 'CABB4B31-8D23-4560-B359-6A12AF5621A9',\n",
       "   'name': 'Bear Canister Purchase/Rental',\n",
       "   'categories': ['Safety', 'Souvenirs and Supplies']},\n",
       "  {'id': '7C64C0C4-5535-4E78-A04C-F78EBBFC3DAD',\n",
       "   'name': 'Bear Spray Purchase/Rental',\n",
       "   'categories': ['Safety', 'Souvenirs and Supplies']},\n",
       "  {'id': '20291812-E85C-4A84-B8A2-E31C8D149704',\n",
       "   'name': 'Benches/Seating',\n",
       "   'categories': ['Convenience']},\n",
       "  {'id': '5BDFF349-2F74-490E-A33E-C35286152050',\n",
       "   'name': 'Bicycle - Rack',\n",
       "   'categories': ['Biking', 'Recreation']},\n",
       "  {'id': 'EDA44DDD-DC61-4EAE-84AD-78FA52D98406',\n",
       "   'name': 'Bicycle - Rental',\n",
       "   'categories': ['Biking', 'Recreation', 'Transportation']},\n",
       "  {'id': 'DBADDA45-B695-4214-98D7-D3F886489421',\n",
       "   'name': 'Bicycle - Repair',\n",
       "   'categories': ['Biking', 'Emergency']},\n",
       "  {'id': '37E409E6-FD87-456F-8A29-7C8287220FBF',\n",
       "   'name': 'Bicycle - Sharing Station',\n",
       "   'categories': ['Biking', 'Recreation', 'Transportation']},\n",
       "  {'id': '1FDBBA99-3E2C-4AAB-AEE3-35B015F744E7',\n",
       "   'name': 'Boat Ramp',\n",
       "   'categories': ['Boating', 'Recreation']},\n",
       "  {'id': '27A7E3AB-CA53-41D3-AEDE-FBF74D20F023',\n",
       "   'name': 'Braille',\n",
       "   'categories': ['Accessibility']},\n",
       "  {'id': 'DA9F2E5C-E46B-4F62-893E-4364D35931DC',\n",
       "   'name': 'Bus/Shuttle Stop',\n",
       "   'categories': ['Transportation']},\n",
       "  {'id': '73C1C87E-F4EC-464D-BAEE-1F95876C24F4',\n",
       "   'name': 'Canoe/Kayak/Small Boat Launch',\n",
       "   'categories': ['Boating', 'Recreation']},\n",
       "  {'id': '3B84C2C8-E890-4EE5-B0E7-FA157EFD8DAC',\n",
       "   'name': 'Captioned Media',\n",
       "   'categories': ['Accessibility']},\n",
       "  {'id': '48562BFB-834B-43F2-B865-E174C372032B',\n",
       "   'name': 'Cellular Signal',\n",
       "   'categories': ['Convenience']},\n",
       "  {'id': '91062A96-BF79-4719-9679-BB5461B7620A',\n",
       "   'name': 'Dock/Pier',\n",
       "   'categories': ['Accessibility', 'Boating', 'Recreation']},\n",
       "  {'id': 'D81436AE-5DB6-462B-A4F2-1DC3780A06D9',\n",
       "   'name': 'Electric Car Charging Station',\n",
       "   'categories': ['Fuel']},\n",
       "  {'id': '57E44FD1-410F-4488-A389-3D27E045CB79',\n",
       "   'name': 'Electrical Hookup - Boat/RV',\n",
       "   'categories': ['Boating']},\n",
       "  {'id': '1C1B932D-32B6-4BAA-8AA6-497F08CC22BF',\n",
       "   'name': 'Electrical Outlet/Cell Phone Charging',\n",
       "   'categories': ['Convenience']},\n",
       "  {'id': 'AB14DDED-4C61-4842-9D1F-1C9578A10802',\n",
       "   'name': 'Elevator',\n",
       "   'categories': ['Accessibility']},\n",
       "  {'id': '2DFECB37-E731-45F0-B0D2-BA33088EFBEA',\n",
       "   'name': 'Entrance Passes For Sale',\n",
       "   'categories': ['Information Available', 'Souvenirs and Supplies']},\n",
       "  {'id': '63C7E515-6380-4092-83ED-FE1177F72A36',\n",
       "   'name': 'Ferry - Passenger',\n",
       "   'categories': ['Transportation']},\n",
       "  {'id': 'BBB07B4A-2217-4FEA-AFD5-1E3B2ED674FF',\n",
       "   'name': 'Ferry - Vehicle',\n",
       "   'categories': ['Transportation']},\n",
       "  {'id': '802BE109-511F-47D9-84D5-18DDA1C90771',\n",
       "   'name': 'Fire Extinguisher',\n",
       "   'categories': ['Emergency', 'Safety']},\n",
       "  {'id': '0A4F29B3-7FC1-4D4A-BD71-3B7E08CD4BCC',\n",
       "   'name': 'Fire Pit',\n",
       "   'categories': ['Recreation']},\n",
       "  {'id': '28BF85F5-E93F-4EF1-A89B-05C99FCD808A',\n",
       "   'name': 'Firewood For Sale/Available',\n",
       "   'categories': ['Souvenirs and Supplies']},\n",
       "  {'id': '5BA727FA-943D-418D-A238-44127EBA6EDB',\n",
       "   'name': 'First Aid Kit Available',\n",
       "   'categories': ['Emergency', 'Safety']},\n",
       "  {'id': '2DEE6458-72F8-4C97-9279-5C3E90B19888',\n",
       "   'name': 'First Aid/Medical Care Available',\n",
       "   'categories': ['Emergency', 'Safety']},\n",
       "  {'id': '2F2EE214-4BAB-4132-AFE4-2F664E5E80C5',\n",
       "   'name': 'Fish-Cleaning Station',\n",
       "   'categories': ['Fishing']},\n",
       "  {'id': '4ACBE3CB-3CBB-47B6-8223-A7EE0342DC6D',\n",
       "   'name': 'Fishing Licenses Issued',\n",
       "   'categories': ['Fishing',\n",
       "    'Information Available',\n",
       "    'Souvenirs and Supplies']},\n",
       "  {'id': '383F944C-35BA-43E3-8EEA-24953836B8C5',\n",
       "   'name': 'Food/Drink - Bar/Alcohol For Sale',\n",
       "   'categories': ['Food']},\n",
       "  {'id': 'D0D77D00-38EA-40F2-91E3-5FDCE3932A49',\n",
       "   'name': 'Food/Drink - Cafeteria',\n",
       "   'categories': ['Food']},\n",
       "  {'id': '5D1ADBE5-E75D-4657-9577-FB5A6A90C7F9',\n",
       "   'name': 'Food/Drink - Coffee',\n",
       "   'categories': ['Food']},\n",
       "  {'id': '3B482494-83EF-48D9-A626-FC00EFD4F4A4',\n",
       "   'name': 'Food/Drink - Ice Cream',\n",
       "   'categories': ['Food']},\n",
       "  {'id': '2F798138-5D0A-468E-96DA-0A07F03031B0',\n",
       "   'name': 'Food/Drink - Restaurant/Table Service',\n",
       "   'categories': ['Food']},\n",
       "  {'id': '29D286B6-069C-4204-AF35-AE7744B71212',\n",
       "   'name': 'Food/Drink - Snacks',\n",
       "   'categories': ['Food', 'Souvenirs and Supplies']},\n",
       "  {'id': '4F26643C-FAAF-40CE-85F7-38DEC4746BE6',\n",
       "   'name': 'Food/Drink - Vending Machine/Self Service',\n",
       "   'categories': ['Food', 'Souvenirs and Supplies']}]}"
      ]
     },
     "execution_count": 29,
     "metadata": {},
     "output_type": "execute_result"
    }
   ],
   "source": [
    "\n",
    "np_amenities = requests.get(url).json()\n",
    "np_amenities"
   ]
  },
  {
   "cell_type": "code",
   "execution_count": 31,
   "metadata": {},
   "outputs": [
    {
     "ename": "AttributeError",
     "evalue": "'dict' object has no attribute 'to_csv'",
     "output_type": "error",
     "traceback": [
      "\u001b[1;31m---------------------------------------------------------------------------\u001b[0m",
      "\u001b[1;31mAttributeError\u001b[0m                            Traceback (most recent call last)",
      "\u001b[1;32m<ipython-input-31-07cae79fa7bb>\u001b[0m in \u001b[0;36m<module>\u001b[1;34m\u001b[0m\n\u001b[1;32m----> 1\u001b[1;33m \u001b[0mnp_amenities\u001b[0m\u001b[1;33m.\u001b[0m\u001b[0mto_csv\u001b[0m\u001b[1;33m(\u001b[0m\u001b[1;34m\"Project_2/amenities_data.csv\"\u001b[0m\u001b[1;33m,\u001b[0m \u001b[0mindex\u001b[0m\u001b[1;33m=\u001b[0m\u001b[1;32mFalse\u001b[0m\u001b[1;33m,\u001b[0m \u001b[0mheader\u001b[0m\u001b[1;33m=\u001b[0m\u001b[1;32mTrue\u001b[0m\u001b[1;33m)\u001b[0m\u001b[1;33m\u001b[0m\u001b[1;33m\u001b[0m\u001b[0m\n\u001b[0m",
      "\u001b[1;31mAttributeError\u001b[0m: 'dict' object has no attribute 'to_csv'"
     ]
    }
   ],
   "source": [
    "\n",
    "\n",
    "np_amenities.to_csv(\"Project_2/amenities_data.csv\", index=False, header=True)\n"
   ]
  },
  {
   "cell_type": "code",
   "execution_count": null,
   "metadata": {},
   "outputs": [],
   "source": []
  },
  {
   "cell_type": "code",
   "execution_count": null,
   "metadata": {},
   "outputs": [],
   "source": []
  }
 ],
 "metadata": {
  "kernelspec": {
   "display_name": "Python 3",
   "language": "python",
   "name": "python3"
  },
  "language_info": {
   "codemirror_mode": {
    "name": "ipython",
    "version": 3
   },
   "file_extension": ".py",
   "mimetype": "text/x-python",
   "name": "python",
   "nbconvert_exporter": "python",
   "pygments_lexer": "ipython3",
   "version": "3.8.5"
  }
 },
 "nbformat": 4,
 "nbformat_minor": 4
}
